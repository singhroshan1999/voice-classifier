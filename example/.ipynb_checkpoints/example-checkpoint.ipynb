{
 "cells": [
  {
   "cell_type": "markdown",
   "metadata": {},
   "source": [
    "# Example"
   ]
  },
  {
   "cell_type": "code",
   "execution_count": 2,
   "metadata": {},
   "outputs": [
    {
     "name": "stderr",
     "output_type": "stream",
     "text": [
      "Using TensorFlow backend.\n"
     ]
    }
   ],
   "source": [
    "from VoiceClassifier import train,predict_names"
   ]
  },
  {
   "cell_type": "code",
   "execution_count": 3,
   "metadata": {},
   "outputs": [
    {
     "name": "stdout",
     "output_type": "stream",
     "text": [
      "WARNING:tensorflow:From e:\\ProgramData\\Anaconda3\\lib\\site-packages\\tensorflow\\python\\framework\\op_def_library.py:263: colocate_with (from tensorflow.python.framework.ops) is deprecated and will be removed in a future version.\n",
      "Instructions for updating:\n",
      "Colocations handled automatically by placer.\n",
      "WARNING:tensorflow:From e:\\ProgramData\\Anaconda3\\lib\\site-packages\\tensorflow\\python\\ops\\math_ops.py:3066: to_int32 (from tensorflow.python.ops.math_ops) is deprecated and will be removed in a future version.\n",
      "Instructions for updating:\n",
      "Use tf.cast instead.\n"
     ]
    }
   ],
   "source": [
    "train = train(['anuragD30.raw','anupamD30.raw','animeshD30.raw','amanD30.raw','deepakbD30.raw'],\n",
    "             ['anu','anup','ani','aman','dee'],epochs = 20)"
   ]
  },
  {
   "cell_type": "code",
   "execution_count": 4,
   "metadata": {},
   "outputs": [
    {
     "name": "stdout",
     "output_type": "stream",
     "text": [
      "      0         1\n",
      "0   anu  0.685251\n",
      "1  anup  0.013391\n",
      "2   ani  0.019306\n",
      "3  aman  0.207361\n",
      "4   dee  0.055763\n",
      "      0         1\n",
      "0   anu  0.016579\n",
      "1  anup  0.611539\n",
      "2   ani  0.147279\n",
      "3  aman  0.035440\n",
      "4   dee  0.175792\n",
      "      0         1\n",
      "0   anu  0.024723\n",
      "1  anup  0.123108\n",
      "2   ani  0.569951\n",
      "3  aman  0.074889\n",
      "4   dee  0.199761\n",
      "      0         1\n",
      "0   anu  0.154796\n",
      "1  anup  0.053989\n",
      "2   ani  0.137125\n",
      "3  aman  0.405309\n",
      "4   dee  0.217412\n",
      "      0         1\n",
      "0   anu  0.040816\n",
      "1  anup  0.153235\n",
      "2   ani  0.236979\n",
      "3  aman  0.069511\n",
      "4   dee  0.491202\n"
     ]
    }
   ],
   "source": [
    "print(predict_names('x.raw',train))\n",
    "print(predict_names('y.raw',train))\n",
    "print(predict_names('an.raw',train))\n",
    "print(predict_names('am.raw',train))\n",
    "print(predict_names('dee.raw',train))"
   ]
  },
  {
   "cell_type": "code",
   "execution_count": null,
   "metadata": {},
   "outputs": [],
   "source": []
  }
 ],
 "metadata": {
  "kernelspec": {
   "display_name": "Python 3",
   "language": "python",
   "name": "python3"
  },
  "language_info": {
   "codemirror_mode": {
    "name": "ipython",
    "version": 3
   },
   "file_extension": ".py",
   "mimetype": "text/x-python",
   "name": "python",
   "nbconvert_exporter": "python",
   "pygments_lexer": "ipython3",
   "version": "3.7.0"
  }
 },
 "nbformat": 4,
 "nbformat_minor": 2
}
