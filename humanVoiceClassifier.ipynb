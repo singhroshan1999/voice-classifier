{
 "cells": [
  {
   "cell_type": "markdown",
   "metadata": {},
   "source": [
    "<div style=\"font-size:38px;color:green\"><u>Human Voice classifier</u></div><br/><br/>"
   ]
  },
  {
   "cell_type": "code",
   "execution_count": 17,
   "metadata": {},
   "outputs": [],
   "source": [
    "import numpy as np\n",
    "import matplotlib.pyplot as plt\n",
    "import pandas as pd\n",
    "\n",
    "#importing data\n",
    "def bytes_from_file(filename, chunksize=8192):\n",
    "    with open(filename, \"rb\") as f:\n",
    "        while True:\n",
    "            chunk = f.read(chunksize)\n",
    "            if chunk:\n",
    "                for b in chunk:\n",
    "                    yield b\n",
    "            else:\n",
    "                break\n",
    "\n",
    "\n",
    "datArr1 = np.array([x for x in bytes_from_file('anuragD30.raw')])\n",
    "datArr2 = np.array([x for x in bytes_from_file('anupamD30.raw')])\n",
    "\n",
    "datArr = np.concatenate((datArr1,datArr2))\n",
    "\n",
    "datArr = datArr.reshape((datArr.size//882,882),order = 'C')\n",
    "datY = np.concatenate((np.zeros((1500),dtype = int),np.ones((1500),dtype = int)))\n",
    "x = pd.DataFrame(datArr)\n",
    "y = pd.DataFrame(datY)"
   ]
  },
  {
   "cell_type": "code",
   "execution_count": 18,
   "metadata": {},
   "outputs": [
    {
     "name": "stderr",
     "output_type": "stream",
     "text": [
      "e:\\ProgramData\\Anaconda3\\lib\\site-packages\\ipykernel_launcher.py:16: UserWarning: Update your `Dense` call to the Keras 2 API: `Dense(activation=\"relu\", input_dim=882, units=80, kernel_initializer=\"uniform\")`\n",
      "  app.launch_new_instance()\n",
      "e:\\ProgramData\\Anaconda3\\lib\\site-packages\\ipykernel_launcher.py:17: UserWarning: Update your `Dense` call to the Keras 2 API: `Dense(activation=\"relu\", units=80, kernel_initializer=\"uniform\")`\n",
      "e:\\ProgramData\\Anaconda3\\lib\\site-packages\\ipykernel_launcher.py:18: UserWarning: Update your `Dense` call to the Keras 2 API: `Dense(activation=\"sigmoid\", units=1, kernel_initializer=\"uniform\")`\n"
     ]
    }
   ],
   "source": [
    "\n",
    "# Splitting the dataset into the Training set and Test set\n",
    "from sklearn.model_selection import train_test_split\n",
    "x_train, x_test, y_train, y_test = train_test_split(x, y, test_size = 0.1, random_state = 0)\n",
    "from sklearn.preprocessing import StandardScaler\n",
    "sc = StandardScaler()\n",
    "x_train = sc.fit_transform(x_train)\n",
    "x_test = sc.transform(x_test)\n",
    "import keras\n",
    "from keras.models import Sequential\n",
    "from keras.layers import Dense\n",
    "\n",
    "# initializing ANN\n",
    "classifier = Sequential()\n",
    "# adding input and hidden layers\n",
    "classifier.add(Dense(output_dim = 80, init = 'uniform', activation = 'relu', input_dim = 882))  # first hidded layer\n",
    "classifier.add(Dense(output_dim = 80, init = 'uniform', activation = 'relu'))  # second hidded layer\n",
    "classifier.add(Dense(output_dim = 1, init = 'uniform', activation = 'sigmoid'))  # output layer\n",
    "# compiling ANN\n",
    "classifier.compile(optimizer = 'adam', loss = 'binary_crossentropy', metrics = ['accuracy'])"
   ]
  },
  {
   "cell_type": "code",
   "execution_count": 19,
   "metadata": {},
   "outputs": [
    {
     "name": "stdout",
     "output_type": "stream",
     "text": [
      "Epoch 1/100\n",
      "2700/2700 [==============================] - 1s 386us/step - loss: 0.5695 - acc: 0.7570\n",
      "Epoch 2/100\n",
      "2700/2700 [==============================] - 0s 52us/step - loss: 0.2636 - acc: 0.9167\n",
      "Epoch 3/100\n",
      "2700/2700 [==============================] - 0s 52us/step - loss: 0.1956 - acc: 0.9419\n",
      "Epoch 4/100\n",
      "2700/2700 [==============================] - 0s 53us/step - loss: 0.1710 - acc: 0.9530\n",
      "Epoch 5/100\n",
      "2700/2700 [==============================] - 0s 56us/step - loss: 0.1506 - acc: 0.9611\n",
      "Epoch 6/100\n",
      "2700/2700 [==============================] - 0s 54us/step - loss: 0.1312 - acc: 0.9659\n",
      "Epoch 7/100\n",
      "2700/2700 [==============================] - 0s 54us/step - loss: 0.1229 - acc: 0.9685\n",
      "Epoch 8/100\n",
      "2700/2700 [==============================] - 0s 52us/step - loss: 0.1105 - acc: 0.9741\n",
      "Epoch 9/100\n",
      "2700/2700 [==============================] - 0s 52us/step - loss: 0.1016 - acc: 0.9759\n",
      "Epoch 10/100\n",
      "2700/2700 [==============================] - 0s 54us/step - loss: 0.0918 - acc: 0.9774\n",
      "Epoch 11/100\n",
      "2700/2700 [==============================] - 0s 52us/step - loss: 0.0849 - acc: 0.9804\n",
      "Epoch 12/100\n",
      "2700/2700 [==============================] - 0s 55us/step - loss: 0.0803 - acc: 0.9811\n",
      "Epoch 13/100\n",
      "2700/2700 [==============================] - 0s 54us/step - loss: 0.0786 - acc: 0.9800\n",
      "Epoch 14/100\n",
      "2700/2700 [==============================] - 0s 53us/step - loss: 0.1006 - acc: 0.9685\n",
      "Epoch 15/100\n",
      "2700/2700 [==============================] - 0s 54us/step - loss: 0.0950 - acc: 0.9726\n",
      "Epoch 16/100\n",
      "2700/2700 [==============================] - 0s 53us/step - loss: 0.1073 - acc: 0.9644\n",
      "Epoch 17/100\n",
      "2700/2700 [==============================] - 0s 57us/step - loss: 0.0837 - acc: 0.9741\n",
      "Epoch 18/100\n",
      "2700/2700 [==============================] - 0s 54us/step - loss: 0.0661 - acc: 0.9800\n",
      "Epoch 19/100\n",
      "2700/2700 [==============================] - 0s 54us/step - loss: 0.0564 - acc: 0.9826\n",
      "Epoch 20/100\n",
      "2700/2700 [==============================] - 0s 52us/step - loss: 0.0488 - acc: 0.9852\n",
      "Epoch 21/100\n",
      "2700/2700 [==============================] - 0s 52us/step - loss: 0.0430 - acc: 0.9863\n",
      "Epoch 22/100\n",
      "2700/2700 [==============================] - 0s 54us/step - loss: 0.0377 - acc: 0.9896\n",
      "Epoch 23/100\n",
      "2700/2700 [==============================] - 0s 52us/step - loss: 0.0357 - acc: 0.9896\n",
      "Epoch 24/100\n",
      "2700/2700 [==============================] - 0s 54us/step - loss: 0.0364 - acc: 0.9881\n",
      "Epoch 25/100\n",
      "2700/2700 [==============================] - 0s 55us/step - loss: 0.0313 - acc: 0.9915\n",
      "Epoch 26/100\n",
      "2700/2700 [==============================] - 0s 54us/step - loss: 0.0289 - acc: 0.9922\n",
      "Epoch 27/100\n",
      "2700/2700 [==============================] - 0s 55us/step - loss: 0.0257 - acc: 0.9922\n",
      "Epoch 28/100\n",
      "2700/2700 [==============================] - 0s 53us/step - loss: 0.0252 - acc: 0.9933\n",
      "Epoch 29/100\n",
      "2700/2700 [==============================] - 0s 53us/step - loss: 0.0261 - acc: 0.9930\n",
      "Epoch 30/100\n",
      "2700/2700 [==============================] - 0s 57us/step - loss: 0.0249 - acc: 0.9926\n",
      "Epoch 31/100\n",
      "2700/2700 [==============================] - 0s 69us/step - loss: 0.0223 - acc: 0.9948\n",
      "Epoch 32/100\n",
      "2700/2700 [==============================] - 0s 64us/step - loss: 0.0222 - acc: 0.9930\n",
      "Epoch 33/100\n",
      "2700/2700 [==============================] - 0s 60us/step - loss: 0.0189 - acc: 0.9956\n",
      "Epoch 34/100\n",
      "2700/2700 [==============================] - 0s 59us/step - loss: 0.0209 - acc: 0.9930\n",
      "Epoch 35/100\n",
      "2700/2700 [==============================] - 0s 56us/step - loss: 0.0601 - acc: 0.9841\n",
      "Epoch 36/100\n",
      "2700/2700 [==============================] - 0s 53us/step - loss: 0.1222 - acc: 0.9667\n",
      "Epoch 37/100\n",
      "2700/2700 [==============================] - 0s 56us/step - loss: 0.1631 - acc: 0.9622\n",
      "Epoch 38/100\n",
      "2700/2700 [==============================] - 0s 54us/step - loss: 0.0707 - acc: 0.9781\n",
      "Epoch 39/100\n",
      "2700/2700 [==============================] - 0s 55us/step - loss: 0.0390 - acc: 0.9870\n",
      "Epoch 40/100\n",
      "2700/2700 [==============================] - 0s 55us/step - loss: 0.0277 - acc: 0.9919\n",
      "Epoch 41/100\n",
      "2700/2700 [==============================] - 0s 53us/step - loss: 0.0225 - acc: 0.9933\n",
      "Epoch 42/100\n",
      "2700/2700 [==============================] - 0s 54us/step - loss: 0.0198 - acc: 0.9948\n",
      "Epoch 43/100\n",
      "2700/2700 [==============================] - 0s 56us/step - loss: 0.0184 - acc: 0.9948\n",
      "Epoch 44/100\n",
      "2700/2700 [==============================] - 0s 55us/step - loss: 0.0164 - acc: 0.9956\n",
      "Epoch 45/100\n",
      "2700/2700 [==============================] - 0s 54us/step - loss: 0.0149 - acc: 0.9959\n",
      "Epoch 46/100\n",
      "2700/2700 [==============================] - 0s 61us/step - loss: 0.0139 - acc: 0.9963\n",
      "Epoch 47/100\n",
      "2700/2700 [==============================] - 0s 55us/step - loss: 0.0132 - acc: 0.9959\n",
      "Epoch 48/100\n",
      "2700/2700 [==============================] - 0s 55us/step - loss: 0.0130 - acc: 0.9963\n",
      "Epoch 49/100\n",
      "2700/2700 [==============================] - 0s 56us/step - loss: 0.0120 - acc: 0.9963\n",
      "Epoch 50/100\n",
      "2700/2700 [==============================] - 0s 56us/step - loss: 0.0112 - acc: 0.9967\n",
      "Epoch 51/100\n",
      "2700/2700 [==============================] - 0s 55us/step - loss: 0.0112 - acc: 0.9959\n",
      "Epoch 52/100\n",
      "2700/2700 [==============================] - 0s 57us/step - loss: 0.0104 - acc: 0.9967\n",
      "Epoch 53/100\n",
      "2700/2700 [==============================] - 0s 57us/step - loss: 0.0109 - acc: 0.9967\n",
      "Epoch 54/100\n",
      "2700/2700 [==============================] - 0s 55us/step - loss: 0.0094 - acc: 0.9974\n",
      "Epoch 55/100\n",
      "2700/2700 [==============================] - 0s 57us/step - loss: 0.0093 - acc: 0.9970\n",
      "Epoch 56/100\n",
      "2700/2700 [==============================] - 0s 54us/step - loss: 0.0089 - acc: 0.9970\n",
      "Epoch 57/100\n",
      "2700/2700 [==============================] - 0s 53us/step - loss: 0.0084 - acc: 0.9970\n",
      "Epoch 58/100\n",
      "2700/2700 [==============================] - 0s 52us/step - loss: 0.0079 - acc: 0.9974\n",
      "Epoch 59/100\n",
      "2700/2700 [==============================] - 0s 54us/step - loss: 0.0084 - acc: 0.9970: 0s - loss: 0.0091 - acc: 0.996\n",
      "Epoch 60/100\n",
      "2700/2700 [==============================] - 0s 73us/step - loss: 0.0080 - acc: 0.9970\n",
      "Epoch 61/100\n",
      "2700/2700 [==============================] - 0s 59us/step - loss: 0.0086 - acc: 0.9970\n",
      "Epoch 62/100\n",
      "2700/2700 [==============================] - 0s 54us/step - loss: 0.0075 - acc: 0.9974\n",
      "Epoch 63/100\n",
      "2700/2700 [==============================] - 0s 56us/step - loss: 0.0066 - acc: 0.9974\n",
      "Epoch 64/100\n",
      "2700/2700 [==============================] - 0s 55us/step - loss: 0.0062 - acc: 0.9974\n",
      "Epoch 65/100\n",
      "2700/2700 [==============================] - 0s 56us/step - loss: 0.0059 - acc: 0.9974\n",
      "Epoch 66/100\n",
      "2700/2700 [==============================] - 0s 56us/step - loss: 0.0057 - acc: 0.9974\n",
      "Epoch 67/100\n",
      "2700/2700 [==============================] - 0s 56us/step - loss: 0.0053 - acc: 0.9974\n",
      "Epoch 68/100\n",
      "2700/2700 [==============================] - 0s 56us/step - loss: 0.0053 - acc: 0.9974\n",
      "Epoch 69/100\n",
      "2700/2700 [==============================] - 0s 58us/step - loss: 0.0051 - acc: 0.9974\n",
      "Epoch 70/100\n",
      "2700/2700 [==============================] - 0s 55us/step - loss: 0.0049 - acc: 0.9974\n",
      "Epoch 71/100\n",
      "2700/2700 [==============================] - 0s 58us/step - loss: 0.0047 - acc: 0.9974\n",
      "Epoch 72/100\n",
      "2700/2700 [==============================] - 0s 58us/step - loss: 0.0045 - acc: 0.9974\n",
      "Epoch 73/100\n",
      "2700/2700 [==============================] - 0s 56us/step - loss: 0.0044 - acc: 0.9974\n",
      "Epoch 74/100\n",
      "2700/2700 [==============================] - 0s 60us/step - loss: 0.0045 - acc: 0.9974\n",
      "Epoch 75/100\n",
      "2700/2700 [==============================] - 0s 57us/step - loss: 0.0046 - acc: 0.9970\n",
      "Epoch 76/100\n",
      "2700/2700 [==============================] - 0s 56us/step - loss: 0.0042 - acc: 0.9974\n",
      "Epoch 77/100\n",
      "2700/2700 [==============================] - 0s 58us/step - loss: 0.0043 - acc: 0.9970\n",
      "Epoch 78/100\n",
      "2700/2700 [==============================] - 0s 56us/step - loss: 0.0063 - acc: 0.9963\n",
      "Epoch 79/100\n",
      "2700/2700 [==============================] - 0s 58us/step - loss: 0.0183 - acc: 0.9941\n",
      "Epoch 80/100\n",
      "2700/2700 [==============================] - 0s 55us/step - loss: 0.0650 - acc: 0.9870\n",
      "Epoch 81/100\n",
      "2700/2700 [==============================] - 0s 60us/step - loss: 0.1164 - acc: 0.9763\n",
      "Epoch 82/100\n"
     ]
    },
    {
     "name": "stdout",
     "output_type": "stream",
     "text": [
      "2700/2700 [==============================] - 0s 57us/step - loss: 0.1055 - acc: 0.9785\n",
      "Epoch 83/100\n",
      "2700/2700 [==============================] - 0s 53us/step - loss: 0.0735 - acc: 0.9822\n",
      "Epoch 84/100\n",
      "2700/2700 [==============================] - 0s 54us/step - loss: 0.0507 - acc: 0.9859\n",
      "Epoch 85/100\n",
      "2700/2700 [==============================] - 0s 55us/step - loss: 0.0171 - acc: 0.9944\n",
      "Epoch 86/100\n",
      "2700/2700 [==============================] - 0s 52us/step - loss: 0.0118 - acc: 0.9974\n",
      "Epoch 87/100\n",
      "2700/2700 [==============================] - 0s 52us/step - loss: 0.0106 - acc: 0.9963\n",
      "Epoch 88/100\n",
      "2700/2700 [==============================] - 0s 53us/step - loss: 0.0091 - acc: 0.9981\n",
      "Epoch 89/100\n",
      "2700/2700 [==============================] - 0s 55us/step - loss: 0.0085 - acc: 0.9974\n",
      "Epoch 90/100\n",
      "2700/2700 [==============================] - 0s 55us/step - loss: 0.0075 - acc: 0.9985\n",
      "Epoch 91/100\n",
      "2700/2700 [==============================] - 0s 63us/step - loss: 0.0065 - acc: 0.9989\n",
      "Epoch 92/100\n",
      "2700/2700 [==============================] - 0s 63us/step - loss: 0.0063 - acc: 0.9981\n",
      "Epoch 93/100\n",
      "2700/2700 [==============================] - 0s 61us/step - loss: 0.0059 - acc: 0.9989\n",
      "Epoch 94/100\n",
      "2700/2700 [==============================] - 0s 58us/step - loss: 0.0057 - acc: 0.9981\n",
      "Epoch 95/100\n",
      "2700/2700 [==============================] - 0s 56us/step - loss: 0.0058 - acc: 0.9981\n",
      "Epoch 96/100\n",
      "2700/2700 [==============================] - 0s 58us/step - loss: 0.0054 - acc: 0.9985\n",
      "Epoch 97/100\n",
      "2700/2700 [==============================] - 0s 74us/step - loss: 0.0058 - acc: 0.9981\n",
      "Epoch 98/100\n",
      "2700/2700 [==============================] - 0s 75us/step - loss: 0.0048 - acc: 0.9981\n",
      "Epoch 99/100\n",
      "2700/2700 [==============================] - 0s 60us/step - loss: 0.0052 - acc: 0.9985\n",
      "Epoch 100/100\n",
      "2700/2700 [==============================] - 0s 57us/step - loss: 0.0051 - acc: 0.9985\n"
     ]
    },
    {
     "data": {
      "text/plain": [
       "<keras.callbacks.History at 0x25567cb4c18>"
      ]
     },
     "execution_count": 19,
     "metadata": {},
     "output_type": "execute_result"
    }
   ],
   "source": [
    "classifier.fit(x_train, y_train, batch_size = 100, epochs = 100)"
   ]
  },
  {
   "cell_type": "code",
   "execution_count": 20,
   "metadata": {},
   "outputs": [
    {
     "data": {
      "text/plain": [
       "array([[163,   4],\n",
       "       [  6, 127]], dtype=int64)"
      ]
     },
     "execution_count": 20,
     "metadata": {},
     "output_type": "execute_result"
    }
   ],
   "source": [
    "y_pred = classifier.predict(x_test)\n",
    "y_pred = (y_pred > 0.5)\n",
    "\n",
    "from sklearn.metrics import confusion_matrix\n",
    "cm = confusion_matrix(y_test, y_pred)\n",
    "cm"
   ]
  },
  {
   "cell_type": "code",
   "execution_count": 29,
   "metadata": {},
   "outputs": [
    {
     "name": "stdout",
     "output_type": "stream",
     "text": [
      "18 1482\n"
     ]
    },
    {
     "data": {
      "image/png": "[encoded data removed]",
      "text/plain": [
       "<Figure size 432x288 with 1 Axes>"
      ]
     },
     "metadata": {
      "needs_background": "light"
     },
     "output_type": "display_data"
    }
   ],
   "source": [
    "zxc = np.array([x for x in bytes_from_file('y.raw')])\n",
    "asd = zxc.reshape((zxc.size//882,882),order = 'C')\n",
    "qwe = pd.DataFrame(asd)\n",
    "qwe = sc.transform(qwe)\n",
    "y_asd = classifier.predict(qwe)\n",
    "sum1 = 0\n",
    "sum0 = 0\n",
    "y_ASD = (y_asd>0.5)\n",
    "# print(y_ASD)\n",
    "for i in y_asd:\n",
    "    if(i == False):\n",
    "        sum0+=1\n",
    "    else:\n",
    "        sum1+=1\n",
    "print(sum0,sum1)\n",
    "\n",
    "plt.plot(y_asd,\"|b\")\n",
    "plt.show()"
   ]
  },
  {
   "cell_type": "code",
   "execution_count": null,
   "metadata": {},
   "outputs": [],
   "source": []
  }
 ],
 "metadata": {
  "kernelspec": {
   "display_name": "Python 3",
   "language": "python",
   "name": "python3"
  },
  "language_info": {
   "codemirror_mode": {
    "name": "ipython",
    "version": 3
   },
   "file_extension": ".py",
   "mimetype": "text/x-python",
   "name": "python",
   "nbconvert_exporter": "python",
   "pygments_lexer": "ipython3",
   "version": "3.7.0"
  }
 },
 "nbformat": 4,
 "nbformat_minor": 2
}
