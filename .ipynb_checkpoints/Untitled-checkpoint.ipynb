{
 "cells": [
  {
   "cell_type": "markdown",
   "metadata": {},
   "source": [
    "<div style=\"font-size:38px;color:green\"><u>Human Voice classifier</u></div><br/><br/>"
   ]
  },
  {
   "cell_type": "code",
   "execution_count": 50,
   "metadata": {},
   "outputs": [],
   "source": [
    "import numpy as np\n",
    "import matplotlib.pyplot as plt\n",
    "import pandas as pd\n",
    "\n",
    "#importing data\n",
    "def bytes_from_file(filename, chunksize=8192):\n",
    "    with open(filename, \"rb\") as f:\n",
    "        while True:\n",
    "            chunk = f.read(chunksize)\n",
    "            if chunk:\n",
    "                for b in chunk:\n",
    "                    yield b\n",
    "            else:\n",
    "                break\n",
    "\n",
    "\n",
    "datArr1 = np.array([x for x in bytes_from_file('anuragD30.raw')])\n",
    "datArr2 = np.array([x for x in bytes_from_file('anupamD30.raw')])\n",
    "\n",
    "datArr = np.concatenate((datArr1,datArr2))\n",
    "\n",
    "datArr = datArr.reshape((datArr.size//882,882),order = 'C')\n",
    "datY = np.concatenate((np.zeros((1500),dtype = int),np.ones((1500),dtype = int)))\n",
    "x = pd.DataFrame(datArr)\n",
    "y = pd.DataFrame(datY)"
   ]
  },
  {
   "cell_type": "code",
   "execution_count": null,
   "metadata": {},
   "outputs": [],
   "source": []
  }
 ],
 "metadata": {
  "kernelspec": {
   "display_name": "Python 3",
   "language": "python",
   "name": "python3"
  },
  "language_info": {
   "codemirror_mode": {
    "name": "ipython",
    "version": 3
   },
   "file_extension": ".py",
   "mimetype": "text/x-python",
   "name": "python",
   "nbconvert_exporter": "python",
   "pygments_lexer": "ipython3",
   "version": "3.7.0"
  }
 },
 "nbformat": 4,
 "nbformat_minor": 2
}
