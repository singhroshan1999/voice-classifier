{
 "cells": [
  {
   "cell_type": "code",
   "execution_count": 5,
   "metadata": {},
   "outputs": [],
   "source": [
    "from humanVoiceClassifier import train,predict_names\n"
   ]
  },
  {
   "cell_type": "code",
   "execution_count": 6,
   "metadata": {},
   "outputs": [],
   "source": [
    "train = train(['anuragD30.raw','anupamD30.raw','animeshD30.raw','amanD30.raw','deepakbD30.raw'],\n",
    "             ['anu','anup','ani','aman','dee'],epochs = 20)"
   ]
  },
  {
   "cell_type": "code",
   "execution_count": 7,
   "metadata": {},
   "outputs": [
    {
     "name": "stdout",
     "output_type": "stream",
     "text": [
      "      0         1\n",
      "0   anu  0.782797\n",
      "1  anup  0.007588\n",
      "2   ani  0.008994\n",
      "3  aman  0.184905\n",
      "4   dee  0.026719\n",
      "      0         1\n",
      "0   anu  0.020975\n",
      "1  anup  0.610516\n",
      "2   ani  0.147015\n",
      "3  aman  0.055325\n",
      "4   dee  0.151448\n",
      "      0         1\n",
      "0   anu  0.030429\n",
      "1  anup  0.121647\n",
      "2   ani  0.540197\n",
      "3  aman  0.130502\n",
      "4   dee  0.175667\n",
      "      0         1\n",
      "0   anu  0.190584\n",
      "1  anup  0.042566\n",
      "2   ani  0.100696\n",
      "3  aman  0.542679\n",
      "4   dee  0.133658\n",
      "      0         1\n",
      "0   anu  0.051774\n",
      "1  anup  0.138095\n",
      "2   ani  0.241599\n",
      "3  aman  0.120158\n",
      "4   dee  0.458353\n"
     ]
    }
   ],
   "source": [
    "print(predict_names('x.raw',train))\n",
    "print(predict_names('y.raw',train))\n",
    "print(predict_names('an.raw',train))\n",
    "print(predict_names('am.raw',train))\n",
    "print(predict_names('dee.raw',train))"
   ]
  },
  {
   "cell_type": "code",
   "execution_count": null,
   "metadata": {},
   "outputs": [],
   "source": []
  }
 ],
 "metadata": {
  "kernelspec": {
   "display_name": "Python 3",
   "language": "python",
   "name": "python3"
  },
  "language_info": {
   "codemirror_mode": {
    "name": "ipython",
    "version": 3
   },
   "file_extension": ".py",
   "mimetype": "text/x-python",
   "name": "python",
   "nbconvert_exporter": "python",
   "pygments_lexer": "ipython3",
   "version": "3.7.0"
  }
 },
 "nbformat": 4,
 "nbformat_minor": 2
}
